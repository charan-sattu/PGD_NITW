{
 "cells": [
  {
   "cell_type": "markdown",
   "id": "e0051b96",
   "metadata": {},
   "source": [
    "Module 2 -Sequenceand File Operations\n",
    "\n",
    "Case Study II\n",
    "\n",
    "Domain –Telecom\n",
    "\n",
    "focus –Optimization"
   ]
  },
  {
   "cell_type": "code",
   "execution_count": 1,
   "id": "b3076732",
   "metadata": {},
   "outputs": [],
   "source": [
    "import re\n",
    "from cryptography.fernet import Fernet"
   ]
  },
  {
   "cell_type": "code",
   "execution_count": 4,
   "id": "6165e35a",
   "metadata": {},
   "outputs": [
    {
     "name": "stdout",
     "output_type": "stream",
     "text": [
      "Enter the referenceID: asdf\n",
      "Invalid ID\n",
      "Enter the referenceID: 1234\n",
      "Invalid ID\n",
      "Enter the referenceID: AsDFsg1234Rt\n",
      "encrypted ID:  b'gAAAAABibZIxJhjqgeVLxJjgInOrgLzp6O5wG1C5n56QNTuYFH9keJzAlctn0A4BZzLp5_HzXdASScBx0HpzKKEvMdTb-7RKaQ=='\n"
     ]
    }
   ],
   "source": [
    "def refid_check():\n",
    "    '''this function takes the input(ReferenceId) from user and validates it based on given conditions and prints \n",
    "    the encrypted ID for reference'''\n",
    "    \n",
    "    refid = str(input('Enter the referenceID: '))\n",
    "    \n",
    "    li=[]\n",
    "    \n",
    "    if len(refid) == 12:   # checks the length of ID is equal to 12\n",
    "        li = re.findall('[a-zA-Z0-9]',refid)\n",
    "        \n",
    "        if len(refid) == len(li):  # checks if no special characters are allowed\n",
    "            \n",
    "            # generate a key for encryptio and decryption   \n",
    " \n",
    "            key = Fernet.generate_key()\n",
    "\n",
    "            fernet = Fernet(key)\n",
    "\n",
    "            encMessage = fernet.encrypt(refid.encode())\n",
    "\n",
    "            #print(\"original ID: \", refid)\n",
    "            print(\"encrypted ID: \", encMessage)\n",
    "    else:\n",
    "        print('Invalid ID')\n",
    "        refid_check()\n",
    "\n",
    "refid_check()"
   ]
  },
  {
   "cell_type": "code",
   "execution_count": null,
   "id": "91f113c9",
   "metadata": {},
   "outputs": [],
   "source": []
  }
 ],
 "metadata": {
  "kernelspec": {
   "display_name": "Python 3 (ipykernel)",
   "language": "python",
   "name": "python3"
  },
  "language_info": {
   "codemirror_mode": {
    "name": "ipython",
    "version": 3
   },
   "file_extension": ".py",
   "mimetype": "text/x-python",
   "name": "python",
   "nbconvert_exporter": "python",
   "pygments_lexer": "ipython3",
   "version": "3.9.7"
  }
 },
 "nbformat": 4,
 "nbformat_minor": 5
}
