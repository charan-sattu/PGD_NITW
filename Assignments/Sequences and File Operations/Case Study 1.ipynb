{
 "cells": [
  {
   "cell_type": "markdown",
   "id": "cffc9688",
   "metadata": {},
   "source": [
    "1. What is the output of the following code?"
   ]
  },
  {
   "cell_type": "code",
   "execution_count": 1,
   "id": "f1eba415",
   "metadata": {},
   "outputs": [
    {
     "name": "stdout",
     "output_type": "stream",
     "text": [
      "4\n"
     ]
    }
   ],
   "source": [
    "nums =set([1,1,2,3,3,3,4,4])\n",
    "print(len(nums))"
   ]
  },
  {
   "cell_type": "markdown",
   "id": "de74a0ad",
   "metadata": {},
   "source": [
    "2. What will be the output?"
   ]
  },
  {
   "cell_type": "code",
   "execution_count": 2,
   "id": "69fa3da7",
   "metadata": {},
   "outputs": [
    {
     "name": "stdout",
     "output_type": "stream",
     "text": [
      "['john', 'peter']\n"
     ]
    }
   ],
   "source": [
    " d={\"john\":40, \"peter\":45}\n",
    "print(list(d.keys()))"
   ]
  },
  {
   "cell_type": "markdown",
   "id": "2fa3ba5b",
   "metadata": {},
   "source": [
    "3. A website requires a user to input username and password to register. Write a program to check the validity of password given by user. Following are the criteria for checking password:\n",
    "    1. At least 1 letter between [a-z]\n",
    "    2. At least 1 number between [0-9]\n",
    "    1. At least 1 letter between [A-Z]\n",
    "    3. At least 1 character from [$#@]\n",
    "    4. Minimum length of transaction password: 6\n",
    "    5. Maximum length of transaction password: 12"
   ]
  },
  {
   "cell_type": "code",
   "execution_count": 16,
   "id": "0b242529",
   "metadata": {
    "code_folding": []
   },
   "outputs": [
    {
     "name": "stdout",
     "output_type": "stream",
     "text": [
      "Enter a the password: Abcdfer#22\n",
      "Valid Password\n"
     ]
    }
   ],
   "source": [
    "import re\n",
    "\n",
    "password = input('Enter a the password: ')\n",
    "flag = 0\n",
    "while True:  \n",
    "    if (len(password)<6 or len(password)>12):\n",
    "        flag = -1\n",
    "        break\n",
    "    elif not re.search(\"[a-z]\", password):\n",
    "        flag = -1\n",
    "        break\n",
    "    elif not re.search(\"[A-Z]\", password):\n",
    "        flag = -1\n",
    "        break\n",
    "    elif not re.search(\"[0-9]\", password):\n",
    "        flag = -1\n",
    "        break\n",
    "    elif not re.search(\"[#@$]\", password):\n",
    "        flag = -1\n",
    "        break\n",
    "    elif re.search(\"\\s\", password):\n",
    "        flag = -1\n",
    "        break\n",
    "    else:\n",
    "        flag = 0\n",
    "        print(\"Valid Password\")\n",
    "        break\n",
    "  \n",
    "if flag ==-1:\n",
    "    print(\"Not a Valid Password\")"
   ]
  },
  {
   "cell_type": "markdown",
   "id": "7a70cc4a",
   "metadata": {},
   "source": [
    "4. Write a for loop that prints all elements of a list and their position in the list.\n",
    "a = [4,7,3,2,5,9] "
   ]
  },
  {
   "cell_type": "code",
   "execution_count": 5,
   "id": "a810409f",
   "metadata": {},
   "outputs": [
    {
     "name": "stdout",
     "output_type": "stream",
     "text": [
      "element  4 is in  0 th position\n",
      "element  7 is in  1 th position\n",
      "element  3 is in  2 th position\n",
      "element  2 is in  3 th position\n",
      "element  5 is in  4 th position\n",
      "element  9 is in  5 th position\n"
     ]
    }
   ],
   "source": [
    "a = [4,7,3,2,5,9] \n",
    "\n",
    "for i in enumerate(a):\n",
    "    print('element ',i[1],'is in ',i[0],'th position')"
   ]
  },
  {
   "cell_type": "markdown",
   "id": "483ee2ea",
   "metadata": {},
   "source": [
    "5. Please   write   a   program   which accepts  a   string   from   console   and   print   the characters that have even indexes.Example: If the following string is given as input to the program:H1e2l3l4o5w6o7r8l9dThen, the output of the program should be:Helloworld"
   ]
  },
  {
   "cell_type": "code",
   "execution_count": 7,
   "id": "3575bb71",
   "metadata": {},
   "outputs": [
    {
     "name": "stdout",
     "output_type": "stream",
     "text": [
      "Enter the stringH1e2l3l4o5w6o7r8l9d\n",
      "Helloworld\n"
     ]
    }
   ],
   "source": [
    "x = input('Enter the string')\n",
    "s=''\n",
    "for i in enumerate(x):\n",
    "    if i[0]%2==0:\n",
    "        s+=i[1]\n",
    "print(s)"
   ]
  },
  {
   "cell_type": "markdown",
   "id": "f2857630",
   "metadata": {},
   "source": [
    "6. Please write a program which accepts a string from console and print it in reverse order.Example: If the following string is given as input to the program: rise to vote sirThen, the output of the program should be:ris etov ot esir"
   ]
  },
  {
   "cell_type": "code",
   "execution_count": 8,
   "id": "11cd3c5f",
   "metadata": {},
   "outputs": [
    {
     "name": "stdout",
     "output_type": "stream",
     "text": [
      "Enter a stringrise to vote sir\n",
      "ris etov ot esir\n"
     ]
    }
   ],
   "source": [
    "x = input('Enter a string')\n",
    "print(x[::-1])"
   ]
  },
  {
   "cell_type": "markdown",
   "id": "c71b990a",
   "metadata": {},
   "source": [
    "7. Please write a program which count and print the numbers of each character in a string input by console.Example: If the following string is given as input to the program:abcdefgabcThen, the output of the program should be:a,2c,2b,2e,1d,1g,1f,1"
   ]
  },
  {
   "cell_type": "code",
   "execution_count": 18,
   "id": "22884b60",
   "metadata": {},
   "outputs": [
    {
     "name": "stdout",
     "output_type": "stream",
     "text": [
      "Enter the stringabcdefgabc\n",
      "a , 2\n",
      "b , 2\n",
      "c , 2\n",
      "d , 1\n",
      "e , 1\n",
      "f , 1\n",
      "g , 1\n"
     ]
    }
   ],
   "source": [
    "from collections import Counter\n",
    "\n",
    "x = input('Enter the string')\n",
    "\n",
    "k = Counter(x)\n",
    "\n",
    "for i in k:\n",
    "    print(i,',',k[i])\n",
    "\n"
   ]
  },
  {
   "cell_type": "markdown",
   "id": "92ea3950",
   "metadata": {},
   "source": [
    "8. With   two   given   lists   [1,3,6,78,35,55]   and   [12,24,35,24,88,120,155],   write   a program to make a list whose elements are intersection of the above given lists."
   ]
  },
  {
   "cell_type": "code",
   "execution_count": 12,
   "id": "08794079",
   "metadata": {},
   "outputs": [
    {
     "name": "stdout",
     "output_type": "stream",
     "text": [
      "[35]\n"
     ]
    }
   ],
   "source": [
    "l1 =  [1,3,6,78,35,55]\n",
    "l2 = [12,24,35,24,88,120,155]\n",
    "\n",
    "print(list(set(l1) & set(l2)))"
   ]
  },
  {
   "cell_type": "markdown",
   "id": "db23af09",
   "metadata": {},
   "source": [
    "9. With a given list [12,24,35,24,88,120,155,88,120,155], write a program to print this list after removing all duplicate values with original order reserved."
   ]
  },
  {
   "cell_type": "code",
   "execution_count": 25,
   "id": "624d5b63",
   "metadata": {},
   "outputs": [
    {
     "name": "stdout",
     "output_type": "stream",
     "text": [
      "[155, 120, 88, 35, 24, 12]\n"
     ]
    }
   ],
   "source": [
    "l = [12,24,35,24,88,120,155,88,120,155]\n",
    "k = set(l)\n",
    "m=[]\n",
    "for i in l:\n",
    "    if i in k and i not in m:\n",
    "        m.append(i)\n",
    "\n",
    "print(m[::-1])        "
   ]
  },
  {
   "cell_type": "markdown",
   "id": "51a9d07e",
   "metadata": {},
   "source": [
    "10. By using list comprehension, please write a program to print the list after removing the value 24 in [12,24,35,24,88,120,155]."
   ]
  },
  {
   "cell_type": "code",
   "execution_count": 49,
   "id": "c8da4a97",
   "metadata": {},
   "outputs": [
    {
     "data": {
      "text/plain": [
       "[12, 35, 88, 120, 155]"
      ]
     },
     "execution_count": 49,
     "metadata": {},
     "output_type": "execute_result"
    }
   ],
   "source": [
    "l = [12,24,35,24,88,120,155]\n",
    "[l.remove(i) for i in l if i==24]\n",
    "l"
   ]
  },
  {
   "cell_type": "markdown",
   "id": "b2c3154e",
   "metadata": {},
   "source": [
    "11. By using list comprehension, please write a program to print the list after removing the 0th,4th,5th numbers in [12,24,35,70,88,120,155]"
   ]
  },
  {
   "cell_type": "code",
   "execution_count": 86,
   "id": "ba9d00a2",
   "metadata": {},
   "outputs": [
    {
     "data": {
      "text/plain": [
       "[24, 35, 70, 155]"
      ]
     },
     "execution_count": 86,
     "metadata": {},
     "output_type": "execute_result"
    }
   ],
   "source": [
    "a = [12,24,35,70,88,120,155]\n",
    "b = [0,4,5]\n",
    "a1 = [a[i] for i in range(len(a)) if i in b]\n",
    "\n",
    "[ele for ele in a if ele not in a1]"
   ]
  },
  {
   "cell_type": "markdown",
   "id": "cce0eec4",
   "metadata": {},
   "source": [
    "12. By using list comprehension, please write a program to print the list after removing delete numbers which are divisible by 5 and 7 in [12,24,35,70,88,120,155]"
   ]
  },
  {
   "cell_type": "code",
   "execution_count": 88,
   "id": "42c763ee",
   "metadata": {},
   "outputs": [
    {
     "data": {
      "text/plain": [
       "[12, 24, 88, 120, 155]"
      ]
     },
     "execution_count": 88,
     "metadata": {},
     "output_type": "execute_result"
    }
   ],
   "source": [
    "a = [12,24,35,70,88,120,155]\n",
    "b = [i for i in a if i%5==0 and i%7==0]\n",
    "\n",
    "[ele for ele in a if ele not in b]"
   ]
  },
  {
   "cell_type": "markdown",
   "id": "b957dc90",
   "metadata": {},
   "source": [
    "13. Please  write  a  program  to  randomly  generate  a  list  with  5  numbers,  which  are divisible by 5 and 7 , between 1 and 1000 inclusive"
   ]
  },
  {
   "cell_type": "code",
   "execution_count": 94,
   "id": "7e00d8ff",
   "metadata": {},
   "outputs": [
    {
     "name": "stdout",
     "output_type": "stream",
     "text": [
      "[385, 665, 525, 280, 560]\n"
     ]
    }
   ],
   "source": [
    "import random\n",
    "\n",
    "l = []\n",
    "\n",
    "for i in range(1,1001):\n",
    "    if i%5==0 and i%7==0:\n",
    "        l.append(i)\n",
    "        \n",
    "print(random.choices(l,k=5))"
   ]
  },
  {
   "cell_type": "markdown",
   "id": "1a1103d6",
   "metadata": {},
   "source": [
    "14. Write  a  program  to  compute  1/2+2/3+3/4+...+n/n+1  with  a  given  n  input  by console (n>0).Example:If the following n is given as input to the program:5Then, the output of the program should be:3.55"
   ]
  },
  {
   "cell_type": "code",
   "execution_count": 7,
   "id": "78b161ce",
   "metadata": {},
   "outputs": [
    {
     "name": "stdout",
     "output_type": "stream",
     "text": [
      "Enter a number 5\n",
      "3.55\n"
     ]
    }
   ],
   "source": [
    "x = int(input('Enter a number '))\n",
    "\n",
    "k = 0\n",
    "\n",
    "for i in range(1,x+1):\n",
    "    k+=i/(i+1)\n",
    "    \n",
    "print(round(k,2))"
   ]
  },
  {
   "cell_type": "code",
   "execution_count": null,
   "id": "78760278",
   "metadata": {},
   "outputs": [],
   "source": []
  }
 ],
 "metadata": {
  "kernelspec": {
   "display_name": "Python 3 (ipykernel)",
   "language": "python",
   "name": "python3"
  },
  "language_info": {
   "codemirror_mode": {
    "name": "ipython",
    "version": 3
   },
   "file_extension": ".py",
   "mimetype": "text/x-python",
   "name": "python",
   "nbconvert_exporter": "python",
   "pygments_lexer": "ipython3",
   "version": "3.9.7"
  }
 },
 "nbformat": 4,
 "nbformat_minor": 5
}
