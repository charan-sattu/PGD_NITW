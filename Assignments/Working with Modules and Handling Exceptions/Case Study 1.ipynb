{
 "cells": [
  {
   "cell_type": "markdown",
   "id": "03315778",
   "metadata": {},
   "source": [
    "1. A Robot moves in a Plane starting from the origin point (0,0). The robot can move toward UP, DOWN, LEFT, RIGHT. The trace of Robot movement is as given following: UP 5  DOWN 3  LEFT 3  RIGHT 2\n",
    "The numbers after directions are steps.  Write a program to compute the distance current position after sequence of movements.Hint: Use math module"
   ]
  },
  {
   "cell_type": "code",
   "execution_count": 54,
   "id": "13518a99",
   "metadata": {},
   "outputs": [
    {
     "name": "stdout",
     "output_type": "stream",
     "text": [
      "Enter the movements in the order - UP,DOWN,LEFT,RIGHT without space & if there is no movement in                         any direction, enter 0: 5332\n",
      "Distance from Origin : 5.0\n",
      "Final position : (-3, 4)\n"
     ]
    }
   ],
   "source": [
    "import math\n",
    "\n",
    "def calc_new_coordinates(movements):\n",
    "    \n",
    "    origin = [0,0]\n",
    "    \n",
    "    '''function take the input string and calculates the new co-ordinates of the robot'''\n",
    "    \n",
    "    origin[1] += int(movements[0])\n",
    "    origin[1] -= int(movements[1])\n",
    "    origin[0] -= int(movements[2])\n",
    "    origin[1] += int(movements[3])\n",
    "            \n",
    "    return origin[0], origin[1]\n",
    "\n",
    "def calc_dist(x):\n",
    "    \n",
    "    '''function calculates the distance of the robot from origin'''\n",
    "    \n",
    "    X,Y = calc_new_coordinates(x)\n",
    "                      \n",
    "    distance_from_origin = math.sqrt((X**2)+(Y**2))    \n",
    "    \n",
    "    print(f\"Distance from Origin : {distance_from_origin}\")\n",
    "    print(f\"Final position : ({X}, {Y})\")    \n",
    "\n",
    "\n",
    "calc_dist(str(input(\"Enter the movements in the order - UP,DOWN,LEFT,RIGHT without space & if there is no movement in \\\n",
    "                        any direction, enter 0: \")))"
   ]
  },
  {
   "cell_type": "markdown",
   "id": "53688004",
   "metadata": {},
   "source": [
    "2. Data of XYZ company is stored in sorted list. Write a program for searching specific data from that list.Hint: Use if/elif to deal with conditions."
   ]
  },
  {
   "cell_type": "code",
   "execution_count": 55,
   "id": "c62796bf",
   "metadata": {},
   "outputs": [
    {
     "name": "stdout",
     "output_type": "stream",
     "text": [
      "Enter list of items seperated by comma 1,2,3,4,5\n",
      "Enter the element that is to be found 3\n",
      "3 is present in given list at position 3\n"
     ]
    }
   ],
   "source": [
    "string = input(\"Enter list of items seperated by comma \")\n",
    "find_ele = input(\"Enter the element that is to be found \")\n",
    "\n",
    "list_ele = str(string).split(\",\")\n",
    "\n",
    "if find_ele in list_ele:\n",
    "    print(f\"{find_ele} is present in given list at position {list_ele.index(find_ele)+1}\")\n",
    "else:\n",
    "    print(f\"{find_ele} is not present in given list\")"
   ]
  },
  {
   "cell_type": "markdown",
   "id": "8a528f14",
   "metadata": {},
   "source": [
    "3. Weather forecasting organization wants to show is it day or night. So, write a program for such organization to findwhether is it dark outside or not.Hint: Use time module."
   ]
  },
  {
   "cell_type": "code",
   "execution_count": 66,
   "id": "e162aeba",
   "metadata": {},
   "outputs": [
    {
     "name": "stdout",
     "output_type": "stream",
     "text": [
      "It is DARK right now as the time is 01:08:47\n"
     ]
    }
   ],
   "source": [
    "from datetime import datetime\n",
    "\n",
    "\n",
    "def dark_light(hour):\n",
    "    return (\n",
    "        \"LIGHT\" if 5 <= hour <= 18\n",
    "        else\n",
    "        \"DARK\"\n",
    "    )\n",
    "\n",
    "\n",
    "h = datetime.now()\n",
    "\n",
    "print(f\"It is {dark_light(h.hour)} right now as the time is {h.strftime('%H:%M:%S')}\")"
   ]
  },
  {
   "cell_type": "markdown",
   "id": "01642e9b",
   "metadata": {},
   "source": [
    "4. Write a program to find distance between two locations when their latitude and longitudes are given.Hint: Use math module."
   ]
  },
  {
   "cell_type": "code",
   "execution_count": 68,
   "id": "c8902b89",
   "metadata": {},
   "outputs": [
    {
     "name": "stdout",
     "output_type": "stream",
     "text": [
      "Enter 1st Latitude and longitude (space seperated)\n",
      "coordinate-1: 20 30\n",
      "Enter 2nd Latitude and longitude (space seperated)\n",
      "coordinate-2: 40 50\n",
      "Distance between (20.0, 30.0) and (40.0, 50.0) is 1818.9053139411603\n"
     ]
    }
   ],
   "source": [
    "import math\n",
    "\n",
    "\n",
    "def distance(lat1, lon1, lat2, lon2):\n",
    "    radlat1 = math.pi*lat1/180\n",
    "    radlon1 = math.pi*lon1/180\n",
    "    radlat2 = math.pi*lat2/180\n",
    "    radlon2 = math.pi*lon2/180\n",
    "\n",
    "    theta = lon1-lon2\n",
    "    radtheta = math.pi*theta/180\n",
    "\n",
    "    dist = math.sin(radlat1) * math.sin(radlat2) + \\\n",
    "        math.cos(radlat1)*math.cos(radlat2)*math.cos(radtheta)\n",
    "    dist = math.acos(dist)\n",
    "    dist = dist * 180/math.pi\n",
    "    dist = dist*60*1.1515\n",
    "\n",
    "    return dist\n",
    "\n",
    "\n",
    "print(\"Enter 1st Latitude and longitude (space seperated)\")\n",
    "latlong1 = input('coordinate-1: ').split(\" \")\n",
    "\n",
    "print(\"Enter 2nd Latitude and longitude (space seperated)\")\n",
    "latlong2 = input('coordinate-2: ').split(\" \")\n",
    "\n",
    "lat1 = float(latlong1[0].strip())\n",
    "lon1 = float(latlong1[1].strip())\n",
    "\n",
    "lat2 = float(latlong2[0].strip())\n",
    "lon2 = float(latlong2[1].strip())\n",
    "\n",
    "dist = distance(lat1, lon1, lat2, lon2)\n",
    "\n",
    "print(\n",
    "    f\"Distance between ({lat1}, {lon1}) and ({lat2}, {lon2}) is {dist}\")"
   ]
  },
  {
   "cell_type": "markdown",
   "id": "981a343a",
   "metadata": {},
   "source": [
    "5. Design a software for bank system. There should be options like cash withdraw, cash credit and change password. According to user input, the software should provide required output.Hint: Use if else statements and functions."
   ]
  },
  {
   "cell_type": "code",
   "execution_count": 1,
   "id": "dcd95d1f",
   "metadata": {},
   "outputs": [
    {
     "name": "stdout",
     "output_type": "stream",
     "text": [
      "********** Axis Bank ATM **********\n",
      "********** Welcome to the ATM services of AXIS Bank **********\n",
      "\n",
      "Enter your 4-digit pin\n",
      "PIN: 1234\n",
      "\n",
      "\n",
      "Please select your option from below\n",
      "1. Check your balance\n",
      "2. Withdraw cash\n",
      "3. Pin Change\n",
      "4. Mini Statement\n",
      "5. Exit\n",
      "\n",
      "\n",
      ">>> 2\n",
      "****** Withdraw Cash ******\n",
      "Enter amount\n",
      ">>> 12000\n",
      "Insufficient Balance\n",
      "\n",
      "\n",
      "Please select your option from below\n",
      "1. Check your balance\n",
      "2. Withdraw cash\n",
      "3. Pin Change\n",
      "4. Mini Statement\n",
      "5. Exit\n",
      "\n",
      "\n",
      ">>> 2\n",
      "****** Withdraw Cash ******\n",
      "Enter amount\n",
      ">>> 500\n",
      "****** Please collect cash ******\n",
      "500\n",
      "Available cash balance : Rs.9500\n",
      "\n",
      "\n",
      "Please select your option from below\n",
      "1. Check your balance\n",
      "2. Withdraw cash\n",
      "3. Pin Change\n",
      "4. Mini Statement\n",
      "5. Exit\n",
      "\n",
      "\n",
      ">>> 4\n",
      "****** Mini Statement ******\n",
      "Rs.500 Debited on 2022-05-08 00:18:27.824624\n",
      "Clear Cash Balance now : 9500\n",
      "\n",
      "\n",
      "Please select your option from below\n",
      "1. Check your balance\n",
      "2. Withdraw cash\n",
      "3. Pin Change\n",
      "4. Mini Statement\n",
      "5. Exit\n",
      "\n",
      "\n",
      ">>> 3\n",
      "****** Pin Change ******\n",
      "Please enter your old PIN\n",
      ">>> 1234\n",
      "Please enter new PIN\n",
      ">>> 4321\n",
      "Please re enter new PIN\n",
      ">>> 4321\n",
      "PIN changed successfully\n",
      "\n",
      "\n",
      "Please select your option from below\n",
      "1. Check your balance\n",
      "2. Withdraw cash\n",
      "3. Pin Change\n",
      "4. Mini Statement\n",
      "5. Exit\n",
      "\n",
      "\n",
      ">>> 1\n",
      "****** Cash Balance ******\n",
      "Your latest balance is : Rs.9500\n",
      "\n",
      "\n",
      "Please select your option from below\n",
      "1. Check your balance\n",
      "2. Withdraw cash\n",
      "3. Pin Change\n",
      "4. Mini Statement\n",
      "5. Exit\n",
      "\n",
      "\n",
      ">>> 5\n",
      "\n",
      "\n",
      "Thanks for Choosing Axis Bank.\n",
      " Please Visit Again.\n"
     ]
    }
   ],
   "source": [
    "from datetime import datetime\n",
    "# ATM software\n",
    "\n",
    "# default vlues\n",
    "DEF_PIN_NUMBER = \"1234\"\n",
    "DEF_CASH_BALANCE = 10000\n",
    "\n",
    "print(\"********** Axis Bank ATM **********\")\n",
    "print(\"********** Welcome to the ATM services of AXIS Bank **********\\n\")\n",
    "print(\"Enter your 4-digit pin\")\n",
    "pin_number = input(\"PIN: \").strip(\"\")\n",
    "\n",
    "transactions = []\n",
    "\n",
    "while True:\n",
    "    if DEF_PIN_NUMBER != pin_number:\n",
    "        print(\"Wrong pin. Please re enter PIN.\")\n",
    "        pin_number = input(\"PIN: \").strip(\"\")\n",
    "        continue\n",
    "    print(\"\\n\")\n",
    "    print(\"Please select your option from below\")\n",
    "    print(\"1. Check your balance\")\n",
    "    print(\"2. Withdraw cash\")\n",
    "    print(\"3. Pin Change\")\n",
    "    print(\"4. Mini Statement\")\n",
    "    print(\"5. Exit\")\n",
    "    print(\"\\n\")\n",
    "    user_option = input(\">>> \")\n",
    "\n",
    "    if user_option == \"1\":\n",
    "        print(\"****** Cash Balance ******\")\n",
    "        print(\"Your latest balance is : Rs.\" + str(DEF_CASH_BALANCE))\n",
    "    elif user_option == \"2\":\n",
    "        print(\"****** Withdraw Cash ******\")\n",
    "        print(\"Enter amount\")\n",
    "        withdraw_amount = int(input(\">>> \"))\n",
    "        if withdraw_amount > DEF_CASH_BALANCE:\n",
    "            print(\"Insufficient Balance\")\n",
    "            continue\n",
    "        else:\n",
    "            print(\"****** Please collect cash ******\")\n",
    "            print(str(withdraw_amount))\n",
    "            DEF_CASH_BALANCE -= withdraw_amount\n",
    "            print(\"Available cash balance : Rs.\" +str(DEF_CASH_BALANCE))\n",
    "            transactions.append(\"Rs.\"+str(withdraw_amount) + \" Debited on \" +str(datetime.now()))\n",
    "            continue\n",
    "    elif user_option == \"3\":\n",
    "        print(\"****** Pin Change ******\")\n",
    "        print(\"Please enter your old PIN\")\n",
    "        pin_number = input(\">>> \")\n",
    "        print(\"Please enter new PIN\")\n",
    "        new_pin = input(\">>> \")\n",
    "        print(\"Please re enter new PIN\")\n",
    "        re_new_pin = input(\">>> \")\n",
    "        \n",
    "        if pin_number != DEF_PIN_NUMBER:\n",
    "            print(\"Wrong PIN, Please enter correct PIN\")\n",
    "        elif new_pin != re_new_pin:\n",
    "            print(\"New PIN is not matching, Please re-enter new PIN\")\n",
    "        else:\n",
    "            DEF_PIN_NUMBER = pin_number\n",
    "            print(\"PIN changed successfully\")\n",
    "        continue\n",
    "    elif user_option == \"4\":\n",
    "        print(\"****** Mini Statement ******\")\n",
    "        for item in transactions:\n",
    "            print(item)\n",
    "        print(\"Clear Cash Balance now : \" + str(DEF_CASH_BALANCE))\n",
    "    elif user_option == \"5\":\n",
    "        print(\"\\n\\nThanks for Choosing Axis Bank.\\n Please Visit Again.\")\n",
    "        break\n",
    "    else:\n",
    "        print(\"Wrong option. Please re-select option or exit by pressing 5\")"
   ]
  },
  {
   "cell_type": "markdown",
   "id": "00554e92",
   "metadata": {},
   "source": [
    "6. Write a program which will find all such numbers which are divisible by 7 but are not a multiple of 5, between 2000 and 3200 (both included). The numbers obtained should be printed in acomma-separated sequence on a single line"
   ]
  },
  {
   "cell_type": "code",
   "execution_count": 69,
   "id": "d271db9f",
   "metadata": {},
   "outputs": [
    {
     "name": "stdout",
     "output_type": "stream",
     "text": [
      "2002 2009 2016 2023 2037 2044 2051 2058 2072 2079 2086 2093 2107 2114 2121 2128 2142 2149 2156 2163 2177 2184 2191 2198 2212 2219 2226 2233 2247 2254 2261 2268 2282 2289 2296 2303 2317 2324 2331 2338 2352 2359 2366 2373 2387 2394 2401 2408 2422 2429 2436 2443 2457 2464 2471 2478 2492 2499 2506 2513 2527 2534 2541 2548 2562 2569 2576 2583 2597 2604 2611 2618 2632 2639 2646 2653 2667 2674 2681 2688 2702 2709 2716 2723 2737 2744 2751 2758 2772 2779 2786 2793 2807 2814 2821 2828 2842 2849 2856 2863 2877 2884 2891 2898 2912 2919 2926 2933 2947 2954 2961 2968 2982 2989 2996 3003 3017 3024 3031 3038 3052 3059 3066 3073 3087 3094 3101 3108 3122 3129 3136 3143 3157 3164 3171 3178 3192 3199 "
     ]
    }
   ],
   "source": [
    "for i in range(2000, 3201):\n",
    "    if i%7==0 and i%5!=0:\n",
    "        print(i, end=' ')"
   ]
  },
  {
   "cell_type": "markdown",
   "id": "221b7c1a",
   "metadata": {},
   "source": [
    "7. Write a program which can compute the factorial of a given numbers. Use recursion to find it."
   ]
  },
  {
   "cell_type": "code",
   "execution_count": 2,
   "id": "09dfaf33",
   "metadata": {},
   "outputs": [
    {
     "name": "stdout",
     "output_type": "stream",
     "text": [
      "Enter a number: 8\n",
      "Factorial of 8 is 40320\n"
     ]
    }
   ],
   "source": [
    "def factorial(x):\n",
    "    if x==0 or x==1:\n",
    "        return 1\n",
    "    else:\n",
    "        return x*factorial(x-1)\n",
    "\n",
    "x = int(input('Enter a number: '))\n",
    "\n",
    "if x<0:\n",
    "    print(\"Factorial doesn't exist for negative numbers\")\n",
    "else:\n",
    "    print(f\"Factorial of {x} is {factorial(x)}\")"
   ]
  },
  {
   "cell_type": "markdown",
   "id": "0a849d3b",
   "metadata": {},
   "source": [
    "8. Write a program that calculates and prints the value according to the given formula:Q = Square root of [(2 * C * D)/H]Following are the fixed values of C and H: C is 50. H is 30.D  is  the  variable  whose  values  should  be  input  to  your  program  in  a  comma-separated sequence. "
   ]
  },
  {
   "cell_type": "code",
   "execution_count": 12,
   "id": "9351a1ec",
   "metadata": {},
   "outputs": [
    {
     "name": "stdout",
     "output_type": "stream",
     "text": [
      "Enter the 'D' values (comma seperated) 100,150,180\n",
      "18,22,24\n"
     ]
    }
   ],
   "source": [
    "import math\n",
    "\n",
    "def formula(d,c=50,h=30):\n",
    "    return int(math.sqrt((2*c*d)/h))\n",
    "\n",
    "x = input(\"Enter the 'D' values (comma seperated) \")\n",
    "\n",
    "lis = x.split(',')\n",
    "\n",
    "for i,j in enumerate(lis):\n",
    "    if i!=len(lis)-1:\n",
    "        print(formula(int(j)), end=',')\n",
    "    else:\n",
    "        print(formula(int(j)))"
   ]
  },
  {
   "cell_type": "markdown",
   "id": "19e08bff",
   "metadata": {},
   "source": [
    "9. Write a program which takes 2 digits, X,Y as input and generates a 2-dimensional array. The element value in the i-th row and j-th column of the array should be i*j.Note: i=0,1.., X-1; j=0,1,¡-Y-1."
   ]
  },
  {
   "cell_type": "code",
   "execution_count": 70,
   "id": "1f626740",
   "metadata": {},
   "outputs": [
    {
     "name": "stdout",
     "output_type": "stream",
     "text": [
      "Enter X and Y (comma seperated):3,5\n",
      "[[0, 0, 0, 0, 0], [0, 1, 2, 3, 4], [0, 2, 4, 6, 8]]\n"
     ]
    }
   ],
   "source": [
    "X,Y = map(int,(input('Enter X and Y (comma seperated):').split(',')))\n",
    "\n",
    "array = []\n",
    "\n",
    "for x in range(X):\n",
    "    temp = []\n",
    "    for y in range(Y):\n",
    "        temp.append(y*x)\n",
    "    array.append(temp)\n",
    "\n",
    "print(array)"
   ]
  },
  {
   "cell_type": "markdown",
   "id": "c8535c36",
   "metadata": {},
   "source": [
    "10. Write a program that accepts a comma separated sequence of words as input and prints the words in a comma-separated sequence after sorting them alphabetically. \n",
    "Suppose the following input is supplied to the program:\n",
    "without,hello,bag,world\n",
    "Then, the output should be:\n",
    "bag,hello,without,world\n"
   ]
  },
  {
   "cell_type": "code",
   "execution_count": 20,
   "id": "0eb7cf51",
   "metadata": {},
   "outputs": [
    {
     "name": "stdout",
     "output_type": "stream",
     "text": [
      "Enter the words (comma seperated): without,hello,bag,world\n",
      "bag,hello,without,world\n"
     ]
    }
   ],
   "source": [
    "x = input('Enter the words (comma seperated): ').split(',')\n",
    "\n",
    "print(','.join(sorted(x)))"
   ]
  },
  {
   "cell_type": "markdown",
   "id": "47644f68",
   "metadata": {},
   "source": [
    "11. Write a program that accepts sequence of lines as input and prints the lines after making all characters in the sentence capitalized. Suppose the following inputis supplied to the program:\n",
    "    Hello world\n",
    "    Practice makes perfect\n",
    "    Then, the output should be:\n",
    "    HELLO WORLD\n",
    "    PRACTICE MAKES PERFECT"
   ]
  },
  {
   "cell_type": "code",
   "execution_count": 25,
   "id": "279ae7bf",
   "metadata": {},
   "outputs": [
    {
     "name": "stdout",
     "output_type": "stream",
     "text": [
      "Enter the number of sentences2\n",
      "Enter sentence 1: hello world\n",
      "Enter sentence 2: practice makes man perfect\n",
      "HELLO WORLD\n",
      "PRACTICE MAKES MAN PERFECT\n"
     ]
    }
   ],
   "source": [
    "x = int(input('Enter the number of sentences'))\n",
    "\n",
    "sentences = []\n",
    "\n",
    "for i in range(x):\n",
    "    sentences.append(input(f\"Enter sentence {i+1}: \"))\n",
    "\n",
    "for p in sentences:\n",
    "    print(p.upper())"
   ]
  },
  {
   "cell_type": "markdown",
   "id": "adbef0e5",
   "metadata": {},
   "source": [
    "12. Write a program that accepts a sequence of whitespace separated words as input and   prints   the   words   after   removing   all   duplicate   words   and   sorting   them alphanumerically. Suppose the following input is supplied to the program:hello world and practice makes perfect and hello world againThen, the output should be:again and hello makes perfect practice world"
   ]
  },
  {
   "cell_type": "code",
   "execution_count": 27,
   "id": "956f0de5",
   "metadata": {},
   "outputs": [
    {
     "name": "stdout",
     "output_type": "stream",
     "text": [
      "Enter the words seperated by space: hello world and practice makes perfect and hello world again\n",
      "again and hello makes perfect practice world\n"
     ]
    }
   ],
   "source": [
    "x = input('Enter the words seperated by space: ').split(' ')\n",
    "\n",
    "print(' '.join(sorted(set(x))))"
   ]
  },
  {
   "cell_type": "markdown",
   "id": "6dba0c3c",
   "metadata": {},
   "source": [
    "13. Write  a  program  which  accepts  a  sequence  of  comma  separated  4  digit  binary numbers  as  its  input  and  then  check  whether  they  are  divisible  by  5  or  not.  The numbers that are divisible by 5 are to be printed in a comma separated sequence."
   ]
  },
  {
   "cell_type": "code",
   "execution_count": 36,
   "id": "9fb100de",
   "metadata": {},
   "outputs": [
    {
     "name": "stdout",
     "output_type": "stream",
     "text": [
      "Enter binary numbers seperated by comma: 0100,0011,1010,1001\n",
      "1010\n"
     ]
    }
   ],
   "source": [
    "x = input('Enter binary numbers seperated by comma: ').split(',')\n",
    "\n",
    "result = [i for i in x if int(i,2)%5==0]\n",
    "\n",
    "print(','.join(result))"
   ]
  },
  {
   "cell_type": "markdown",
   "id": "ec97b161",
   "metadata": {},
   "source": [
    "14. Write  a  program  that  accepts  a  sentence  and  calculate  the  number  of  upper  case letters and lower case letters.\n",
    "Suppose the following input is supplied to the program:\n",
    "Hello world!\n",
    "Then, the output should be:\n",
    "UPPER CASE 1\n",
    "LOWER CASE 9"
   ]
  },
  {
   "cell_type": "code",
   "execution_count": 50,
   "id": "6ee5bbce",
   "metadata": {},
   "outputs": [
    {
     "name": "stdout",
     "output_type": "stream",
     "text": [
      "Enter the sentence: Hello world!\n",
      "UPPER CASE 1\n",
      "LOWER CASE 9\n"
     ]
    }
   ],
   "source": [
    "x = input('Enter the sentence: ')\n",
    "\n",
    "upper,lower = 0,0\n",
    "\n",
    "for i in x:\n",
    "    if i.isupper():\n",
    "        upper+=1\n",
    "    elif i.islower():\n",
    "        lower+=1\n",
    "        \n",
    "print(f\"UPPER CASE {upper}\")\n",
    "print(f\"LOWER CASE {lower}\")"
   ]
  },
  {
   "cell_type": "markdown",
   "id": "65361e29",
   "metadata": {},
   "source": [
    "15. Give example of fsum and sum function of math library."
   ]
  },
  {
   "cell_type": "code",
   "execution_count": 53,
   "id": "4bfdd1dc",
   "metadata": {},
   "outputs": [
    {
     "name": "stdout",
     "output_type": "stream",
     "text": [
      "15\n",
      "15\n",
      "15\n",
      "10\n",
      "15.0\n",
      "15.0\n",
      "15.0\n",
      "10.0\n"
     ]
    },
    {
     "data": {
      "text/plain": [
       "' SUM - retuns the same datatype of input values\\n    fSUM - always returns the FLOAT value irrespective of the input datatype'"
      ]
     },
     "execution_count": 53,
     "metadata": {},
     "output_type": "execute_result"
    }
   ],
   "source": [
    "import math\n",
    "\n",
    "# list\n",
    "print(sum([1, 2, 3, 4, 5]))\n",
    "# tuple\n",
    "print(sum((1, 2, 3, 4, 5)))\n",
    "# set\n",
    "print(sum({1, 2, 3, 4, 5}))\n",
    "# range\n",
    "print(sum(range(1, 5)))\n",
    "\n",
    "# list\n",
    "print(math.fsum([1, 2, 3, 4, 5]))\n",
    "# tuple\n",
    "print(math.fsum((1, 2, 3, 4, 5)))\n",
    "# set\n",
    "print(math.fsum({1, 2, 3, 4, 5}))\n",
    "# range\n",
    "print(math.fsum(range(1, 5)))\n",
    "\n",
    "\n",
    "''' SUM - retuns the same datatype of input values\n",
    "    fSUM - always returns the FLOAT value irrespective of the input datatype'''"
   ]
  },
  {
   "cell_type": "code",
   "execution_count": null,
   "id": "f2115541",
   "metadata": {},
   "outputs": [],
   "source": []
  }
 ],
 "metadata": {
  "kernelspec": {
   "display_name": "Python 3 (ipykernel)",
   "language": "python",
   "name": "python3"
  },
  "language_info": {
   "codemirror_mode": {
    "name": "ipython",
    "version": 3
   },
   "file_extension": ".py",
   "mimetype": "text/x-python",
   "name": "python",
   "nbconvert_exporter": "python",
   "pygments_lexer": "ipython3",
   "version": "3.9.7"
  }
 },
 "nbformat": 4,
 "nbformat_minor": 5
}
