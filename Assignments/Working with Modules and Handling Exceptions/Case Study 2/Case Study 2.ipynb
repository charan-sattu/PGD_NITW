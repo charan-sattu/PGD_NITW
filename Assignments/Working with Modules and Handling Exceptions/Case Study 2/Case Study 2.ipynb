{
 "cells": [
  {
   "cell_type": "markdown",
   "id": "bbd52831",
   "metadata": {},
   "source": [
    "# Module 4 - Working with Modules and Handling Exceptions"
   ]
  },
  {
   "cell_type": "markdown",
   "id": "15fb0787",
   "metadata": {},
   "source": [
    "### Case Study - 2"
   ]
  },
  {
   "cell_type": "code",
   "execution_count": 1,
   "id": "e34e1985",
   "metadata": {},
   "outputs": [],
   "source": [
    "import pandas as pd"
   ]
  },
  {
   "cell_type": "code",
   "execution_count": 3,
   "id": "01a242c6",
   "metadata": {},
   "outputs": [],
   "source": [
    "df = pd.read_csv('bank-data.csv')  # reading file"
   ]
  },
  {
   "cell_type": "code",
   "execution_count": 4,
   "id": "a918a399",
   "metadata": {},
   "outputs": [
    {
     "data": {
      "text/html": [
       "<div>\n",
       "<style scoped>\n",
       "    .dataframe tbody tr th:only-of-type {\n",
       "        vertical-align: middle;\n",
       "    }\n",
       "\n",
       "    .dataframe tbody tr th {\n",
       "        vertical-align: top;\n",
       "    }\n",
       "\n",
       "    .dataframe thead th {\n",
       "        text-align: right;\n",
       "    }\n",
       "</style>\n",
       "<table border=\"1\" class=\"dataframe\">\n",
       "  <thead>\n",
       "    <tr style=\"text-align: right;\">\n",
       "      <th></th>\n",
       "      <th>age</th>\n",
       "      <th>job</th>\n",
       "      <th>marital</th>\n",
       "      <th>y</th>\n",
       "    </tr>\n",
       "  </thead>\n",
       "  <tbody>\n",
       "    <tr>\n",
       "      <th>0</th>\n",
       "      <td>20</td>\n",
       "      <td>student</td>\n",
       "      <td>single</td>\n",
       "      <td>yes</td>\n",
       "    </tr>\n",
       "    <tr>\n",
       "      <th>1</th>\n",
       "      <td>32</td>\n",
       "      <td>management</td>\n",
       "      <td>single</td>\n",
       "      <td>yes</td>\n",
       "    </tr>\n",
       "    <tr>\n",
       "      <th>2</th>\n",
       "      <td>49</td>\n",
       "      <td>technician</td>\n",
       "      <td>married</td>\n",
       "      <td>yes</td>\n",
       "    </tr>\n",
       "    <tr>\n",
       "      <th>3</th>\n",
       "      <td>32</td>\n",
       "      <td>blue-collar</td>\n",
       "      <td>married</td>\n",
       "      <td>yes</td>\n",
       "    </tr>\n",
       "    <tr>\n",
       "      <th>4</th>\n",
       "      <td>33</td>\n",
       "      <td>management</td>\n",
       "      <td>married</td>\n",
       "      <td>yes</td>\n",
       "    </tr>\n",
       "    <tr>\n",
       "      <th>...</th>\n",
       "      <td>...</td>\n",
       "      <td>...</td>\n",
       "      <td>...</td>\n",
       "      <td>...</td>\n",
       "    </tr>\n",
       "    <tr>\n",
       "      <th>442</th>\n",
       "      <td>26</td>\n",
       "      <td>technician</td>\n",
       "      <td>single</td>\n",
       "      <td>yes</td>\n",
       "    </tr>\n",
       "    <tr>\n",
       "      <th>443</th>\n",
       "      <td>60</td>\n",
       "      <td>self-employed</td>\n",
       "      <td>married</td>\n",
       "      <td>yes</td>\n",
       "    </tr>\n",
       "    <tr>\n",
       "      <th>444</th>\n",
       "      <td>42</td>\n",
       "      <td>blue-collar</td>\n",
       "      <td>single</td>\n",
       "      <td>yes</td>\n",
       "    </tr>\n",
       "    <tr>\n",
       "      <th>445</th>\n",
       "      <td>32</td>\n",
       "      <td>admin.</td>\n",
       "      <td>single</td>\n",
       "      <td>yes</td>\n",
       "    </tr>\n",
       "    <tr>\n",
       "      <th>446</th>\n",
       "      <td>46</td>\n",
       "      <td>blue-collar</td>\n",
       "      <td>married</td>\n",
       "      <td>yes</td>\n",
       "    </tr>\n",
       "  </tbody>\n",
       "</table>\n",
       "<p>447 rows × 4 columns</p>\n",
       "</div>"
      ],
      "text/plain": [
       "     age            job  marital    y\n",
       "0     20        student   single  yes\n",
       "1     32     management   single  yes\n",
       "2     49     technician  married  yes\n",
       "3     32    blue-collar  married  yes\n",
       "4     33     management  married  yes\n",
       "..   ...            ...      ...  ...\n",
       "442   26     technician   single  yes\n",
       "443   60  self-employed  married  yes\n",
       "444   42    blue-collar   single  yes\n",
       "445   32         admin.   single  yes\n",
       "446   46    blue-collar  married  yes\n",
       "\n",
       "[447 rows x 4 columns]"
      ]
     },
     "execution_count": 4,
     "metadata": {},
     "output_type": "execute_result"
    }
   ],
   "source": [
    "df"
   ]
  },
  {
   "cell_type": "code",
   "execution_count": 5,
   "id": "3cb7c76b",
   "metadata": {},
   "outputs": [],
   "source": [
    "unique_jobs = df['job'].unique()   # set of unique jobs"
   ]
  },
  {
   "cell_type": "code",
   "execution_count": 6,
   "id": "ab80b954",
   "metadata": {},
   "outputs": [
    {
     "data": {
      "text/plain": [
       "array(['student', 'management', 'technician', 'blue-collar', 'admin.',\n",
       "       'services', 'self-employed', 'entrepreneur', 'housemaid'],\n",
       "      dtype=object)"
      ]
     },
     "execution_count": 6,
     "metadata": {},
     "output_type": "execute_result"
    }
   ],
   "source": [
    "unique_jobs"
   ]
  },
  {
   "cell_type": "code",
   "execution_count": 13,
   "id": "2893e741",
   "metadata": {},
   "outputs": [
    {
     "name": "stdout",
     "output_type": "stream",
     "text": [
      "Enter the profession(enter END if the check is done): management\n",
      "Eligible\n",
      "Enter the profession(enter END if the check is done): housemaid\n",
      "Eligible\n",
      "Enter the profession(enter END if the check is done): services\n",
      "Eligible\n",
      "Enter the profession(enter END if the check is done): hitler\n",
      "Not Eligible\n",
      "Enter the profession(enter END if the check is done): obama\n",
      "Not Eligible\n",
      "Enter the profession(enter END if the check is done): END\n"
     ]
    }
   ],
   "source": [
    "def check_eligibility(profession):\n",
    "    \n",
    "    '''Function - takes user entered profession as input and returns the eligibility'''\n",
    "    \n",
    "    if profession.lower() in unique_jobs:      # case insensitive operation\n",
    "        return 'Eligible'\n",
    "    return 'Not Eligible'\n",
    "\n",
    "profession=''\n",
    "\n",
    "while profession != 'END':\n",
    "    \n",
    "    profession = input('Enter the profession(enter END if the check is done): ')\n",
    "    \n",
    "    if profession=='END':\n",
    "        break\n",
    "    print(check_eligibility(profession))\n",
    "    "
   ]
  },
  {
   "cell_type": "code",
   "execution_count": 15,
   "id": "8e0bb99c",
   "metadata": {},
   "outputs": [],
   "source": [
    "age = {}          # storing max and min age in a dictionary\n",
    "\n",
    "\n",
    "age['max'] = df['age'].describe().T['max']\n",
    "age['min'] = df['age'].describe().T['min']"
   ]
  },
  {
   "cell_type": "code",
   "execution_count": 16,
   "id": "28948796",
   "metadata": {},
   "outputs": [
    {
     "data": {
      "text/plain": [
       "{'max': 80.0, 'min': 19.0}"
      ]
     },
     "execution_count": 16,
     "metadata": {},
     "output_type": "execute_result"
    }
   ],
   "source": [
    "age"
   ]
  },
  {
   "cell_type": "code",
   "execution_count": 19,
   "id": "a4169b27",
   "metadata": {},
   "outputs": [
    {
     "name": "stdout",
     "output_type": "stream",
     "text": [
      "Enter the age: 33\n",
      "Eligible\n"
     ]
    }
   ],
   "source": [
    "x = int(input('Enter the age: '))      # age check\n",
    "\n",
    "if age['min'] <= x <= age['max']:\n",
    "    print('Eligible')\n",
    "else:\n",
    "    print('Not Eligible')"
   ]
  },
  {
   "cell_type": "code",
   "execution_count": null,
   "id": "c424df2f",
   "metadata": {},
   "outputs": [],
   "source": []
  }
 ],
 "metadata": {
  "kernelspec": {
   "display_name": "Python 3 (ipykernel)",
   "language": "python",
   "name": "python3"
  },
  "language_info": {
   "codemirror_mode": {
    "name": "ipython",
    "version": 3
   },
   "file_extension": ".py",
   "mimetype": "text/x-python",
   "name": "python",
   "nbconvert_exporter": "python",
   "pygments_lexer": "ipython3",
   "version": "3.9.7"
  }
 },
 "nbformat": 4,
 "nbformat_minor": 5
}
