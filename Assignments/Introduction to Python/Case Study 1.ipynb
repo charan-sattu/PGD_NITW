{
 "cells": [
  {
   "cell_type": "markdown",
   "id": "1fd142b5",
   "metadata": {},
   "source": [
    "1. Write a program which will find factors of given number and find whether the factor is even or odd."
   ]
  },
  {
   "cell_type": "code",
   "execution_count": 2,
   "id": "c504f75c",
   "metadata": {},
   "outputs": [
    {
     "name": "stdout",
     "output_type": "stream",
     "text": [
      "Enter any number \n",
      "22\n",
      "The factors of 22 are:\n",
      "1  Odd\n",
      "2  Even\n",
      "11  Odd\n",
      "22  Even\n"
     ]
    }
   ],
   "source": [
    "x = int(input(\"Enter any number \\n\"))\n",
    "print(\"The factors of\",x,\"are:\")\n",
    "for i in range(1, x + 1):\n",
    "    if x % i == 0:\n",
    "        if i % 2 == 0:\n",
    "            print(i,\" Even\")\n",
    "        else:\n",
    "            print(i,\" Odd\")"
   ]
  },
  {
   "cell_type": "markdown",
   "id": "96668062",
   "metadata": {},
   "source": [
    "2. Write a code which accepts a sequence of words as input and prints the words in a sequence after sorting them alphabetically. "
   ]
  },
  {
   "cell_type": "code",
   "execution_count": 6,
   "id": "63313619",
   "metadata": {},
   "outputs": [
    {
     "name": "stdout",
     "output_type": "stream",
     "text": [
      "Enter the words seperated wit spacesdog cat umbrella\n",
      "dgo\n",
      "act\n",
      "abellmru\n"
     ]
    }
   ],
   "source": [
    "x = input('Enter the words seperated wit spaces')\n",
    "l = x.split(' ')\n",
    "\n",
    "for i in l:\n",
    "    print(''.join(sorted(i)))\n"
   ]
  },
  {
   "cell_type": "markdown",
   "id": "335296ec",
   "metadata": {},
   "source": [
    "3. Write a program, whichwill find all the numbers between 1000 and 3000 (both included) such that each digit of a number is an even number. The numbers obtained should be printed in a comma separated sequence on a single line"
   ]
  },
  {
   "cell_type": "code",
   "execution_count": 7,
   "id": "c96cacd6",
   "metadata": {},
   "outputs": [
    {
     "name": "stdout",
     "output_type": "stream",
     "text": [
      "2000,2002,2004,2006,2008,2020,2022,2024,2026,2028,2040,2042,2044,2046,2048,2060,2062,2064,2066,2068,2080,2082,2084,2086,2088,2200,2202,2204,2206,2208,2220,2222,2224,2226,2228,2240,2242,2244,2246,2248,2260,2262,2264,2266,2268,2280,2282,2284,2286,2288,2400,2402,2404,2406,2408,2420,2422,2424,2426,2428,2440,2442,2444,2446,2448,2460,2462,2464,2466,2468,2480,2482,2484,2486,2488,2600,2602,2604,2606,2608,2620,2622,2624,2626,2628,2640,2642,2644,2646,2648,2660,2662,2664,2666,2668,2680,2682,2684,2686,2688,2800,2802,2804,2806,2808,2820,2822,2824,2826,2828,2840,2842,2844,2846,2848,2860,2862,2864,2866,2868,2880,2882,2884,2886,2888\n"
     ]
    }
   ],
   "source": [
    "items = []\n",
    "for i in range(1000, 3001):\n",
    "    s = str(i)\n",
    "    if (int(s[0])%2==0) and (int(s[1])%2==0) and (int(s[2])%2==0) and (int(s[3])%2==0):\n",
    "        items.append(s)\n",
    "print( \",\".join(items))"
   ]
  },
  {
   "cell_type": "markdown",
   "id": "21c01af8",
   "metadata": {},
   "source": [
    "4. Write a program that accepts a sentence and calculate the number of letters and digits"
   ]
  },
  {
   "cell_type": "code",
   "execution_count": 8,
   "id": "73d52d17",
   "metadata": {},
   "outputs": [
    {
     "name": "stdout",
     "output_type": "stream",
     "text": [
      "Input a stringEdureka1011\n",
      "Letters 7\n",
      "Digits 4\n"
     ]
    }
   ],
   "source": [
    "s = input(\"Input a string\")\n",
    "d=l=0\n",
    "for c in s:\n",
    "    if c.isdigit():\n",
    "        d=d+1\n",
    "    elif c.isalpha():\n",
    "        l=l+1\n",
    "    else:\n",
    "        pass\n",
    "print(\"Letters\", l)\n",
    "print(\"Digits\", d)"
   ]
  },
  {
   "cell_type": "markdown",
   "id": "d67ab86a",
   "metadata": {},
   "source": [
    "5. Design a code which will find the given number is Palindrome number or not"
   ]
  },
  {
   "cell_type": "code",
   "execution_count": 15,
   "id": "5ca099da",
   "metadata": {},
   "outputs": [
    {
     "name": "stdout",
     "output_type": "stream",
     "text": [
      "Enter any number: 77\n",
      "Entered number is a Palindrome\n"
     ]
    }
   ],
   "source": [
    "x = str(input('Enter any number: '))\n",
    "y=x[::-1]\n",
    "\n",
    "if x.isdigit():\n",
    "    if x == y:\n",
    "        print('Entered number is a Palindrome')\n",
    "    else:\n",
    "        print('Entered number is not a Palindrome')\n",
    "else:\n",
    "    print('Invalid input')"
   ]
  },
  {
   "cell_type": "code",
   "execution_count": null,
   "id": "a050e03b",
   "metadata": {},
   "outputs": [],
   "source": []
  }
 ],
 "metadata": {
  "kernelspec": {
   "display_name": "Python 3 (ipykernel)",
   "language": "python",
   "name": "python3"
  },
  "language_info": {
   "codemirror_mode": {
    "name": "ipython",
    "version": 3
   },
   "file_extension": ".py",
   "mimetype": "text/x-python",
   "name": "python",
   "nbconvert_exporter": "python",
   "pygments_lexer": "ipython3",
   "version": "3.9.7"
  }
 },
 "nbformat": 4,
 "nbformat_minor": 5
}
